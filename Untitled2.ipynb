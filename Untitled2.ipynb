{
  "nbformat": 4,
  "nbformat_minor": 0,
  "metadata": {
    "colab": {
      "name": "Untitled2.ipynb",
      "version": "0.3.2",
      "provenance": [],
      "collapsed_sections": [],
      "include_colab_link": true
    },
    "kernelspec": {
      "name": "python3",
      "display_name": "Python 3"
    },
    "accelerator": "TPU"
  },
  "cells": [
    {
      "cell_type": "markdown",
      "metadata": {
        "id": "view-in-github",
        "colab_type": "text"
      },
      "source": [
        "<a href=\"https://colab.research.google.com/github/rnlio1995/Machine_learning_in_C-C-_FPGA/blob/master/Untitled2.ipynb\" target=\"_parent\"><img src=\"https://colab.research.google.com/assets/colab-badge.svg\" alt=\"Open In Colab\"/></a>"
      ]
    },
    {
      "metadata": {
        "id": "nVJEzd0XUZed",
        "colab_type": "code",
        "colab": {}
      },
      "cell_type": "code",
      "source": [
        "import numpy as np\n",
        "import matplotlib.pyplot as plt\n",
        "import seaborn as sns\n",
        "from sklearn import datasets"
      ],
      "execution_count": 0,
      "outputs": []
    },
    {
      "metadata": {
        "id": "WyetnhPaUhoG",
        "colab_type": "code",
        "colab": {}
      },
      "cell_type": "code",
      "source": [
        "iris = datasets.load_iris()"
      ],
      "execution_count": 0,
      "outputs": []
    },
    {
      "metadata": {
        "id": "V7caQXMNUlqy",
        "colab_type": "code",
        "colab": {}
      },
      "cell_type": "code",
      "source": [
        "X = iris.data[:, :2]\n",
        "y = (iris.target != 0) * 1"
      ],
      "execution_count": 0,
      "outputs": []
    },
    {
      "metadata": {
        "id": "iwKxgaDvnTTA",
        "colab_type": "code",
        "colab": {
          "base_uri": "https://localhost:8080/",
          "height": 34
        },
        "outputId": "d339cc0a-f431-4357-f448-ff8f3b3f6bbf"
      },
      "cell_type": "code",
      "source": [
        "Y = np.expand_dims(y, axis=0)\n",
        "Y.shape"
      ],
      "execution_count": 101,
      "outputs": [
        {
          "output_type": "execute_result",
          "data": {
            "text/plain": [
              "(1, 150)"
            ]
          },
          "metadata": {
            "tags": []
          },
          "execution_count": 101
        }
      ]
    },
    {
      "metadata": {
        "id": "RYCjW6rMZbfs",
        "colab_type": "code",
        "colab": {
          "base_uri": "https://localhost:8080/",
          "height": 34
        },
        "outputId": "28f1f972-9a0c-496e-da14-4e3fecdfc9fe"
      },
      "cell_type": "code",
      "source": [
        "######## DATASET SPLITTING #############\n",
        "X_train = X[:int(X.shape[0]*.70),:]  #70% training set.\n",
        "X_train_flatten = X_train.reshape(X_train.shape[0], -1).T\n",
        "\n",
        "y_train = Y[:,int(X.shape[0]*.70)]\n",
        "\n",
        "X_validation = X[106:128,:] #15% splitting for validation \n",
        "X_valid_flatten = X_validation.reshape(X_validation.shape[0], -1).T\n",
        "y_validation = Y[:,106:128]\n",
        "\n",
        "X_test = X[128:,:] #15% splitting for validation \n",
        "X_test_flatten = X_test.reshape(X_test.shape[0], -1).T\n",
        "y_test = Y[:,128:]\n",
        "\n",
        "X_valid_flatten.shape\n"
      ],
      "execution_count": 102,
      "outputs": [
        {
          "output_type": "execute_result",
          "data": {
            "text/plain": [
              "(2, 22)"
            ]
          },
          "metadata": {
            "tags": []
          },
          "execution_count": 102
        }
      ]
    },
    {
      "metadata": {
        "id": "Y1816NFwUp4I",
        "colab_type": "code",
        "colab": {
          "base_uri": "https://localhost:8080/",
          "height": 374
        },
        "outputId": "7375105d-a6b6-423a-9be7-2dff1c4c4233"
      },
      "cell_type": "code",
      "source": [
        "plt.figure(figsize=(10, 6))\n",
        "plt.scatter(X[y == 0][:, 0], X[y == 0][:, 1], color='b', label='0')\n",
        "plt.scatter(X[y == 1][:, 0], X[y == 1][:, 1], color='r', label='1')\n",
        "plt.legend();"
      ],
      "execution_count": 80,
      "outputs": [
        {
          "output_type": "display_data",
          "data": {
            "image/png": "[encoded data removed]",
            "text/plain": [
              "<Figure size 720x432 with 1 Axes>"
            ]
          },
          "metadata": {
            "tags": []
          }
        }
      ]
    },
    {
      "metadata": {
        "id": "KEhNNDW7XodC",
        "colab_type": "code",
        "colab": {}
      },
      "cell_type": "code",
      "source": [
        "#sigmoid function\n",
        "def sigmoid(z):\n",
        " \n",
        "    s = 1 / (1 + np.exp(-z))\n",
        "    \n",
        "    return s\n",
        "  "
      ],
      "execution_count": 0,
      "outputs": []
    },
    {
      "metadata": {
        "id": "p8byQdVoiBbt",
        "colab_type": "code",
        "colab": {}
      },
      "cell_type": "code",
      "source": [
        "#random intitialization. in this case I initialize everything with zero\n",
        "def initializer(dimension):\n",
        "    \n",
        "    w = np.zeros(shape=(dim, 1))\n",
        "    b = 0\n",
        "    \n",
        "    return w, b"
      ],
      "execution_count": 0,
      "outputs": []
    },
    {
      "metadata": {
        "id": "2LSJbwZbilEc",
        "colab_type": "code",
        "colab": {}
      },
      "cell_type": "code",
      "source": [
        "### forward propagation and back propagation ####\n",
        "def propagate(w, b, X, Y):\n",
        "\n",
        "    \n",
        "    m = X.shape[1]\n",
        "    \n",
        "    A = sigmoid(np.dot(w.T, X) + b)  # compute activation\n",
        "    cost = (- 1 / m) * np.sum(Y * np.log(A) + (1 - Y) * (np.log(1 - A)))  # compute cost\n",
        "    \n",
        "    # back propagation\n",
        "    dw = (1 / m) * np.dot(X, (A - Y).T)\n",
        "    db = (1 / m) * np.sum(A - Y)\n",
        "\n",
        "    cost = np.squeeze(cost)\n",
        "\n",
        "    \n",
        "    grads = {\"dw\": dw,\n",
        "             \"db\": db}\n",
        "    \n",
        "    return grads, cost"
      ],
      "execution_count": 0,
      "outputs": []
    },
    {
      "metadata": {
        "id": "9arH1K8WjesA",
        "colab_type": "code",
        "colab": {}
      },
      "cell_type": "code",
      "source": [
        "def optimize(w, b, X, Y, num_iterations, learning_rate, print_cost = False):\n",
        " \n",
        "    costs = []\n",
        "    \n",
        "    for i in range(num_iterations):   \n",
        "        \n",
        "        # Cost and gradient calculation (≈ 1-4 lines of code)\n",
        "        grads, cost = propagate(w, b, X, Y)\n",
        "        \n",
        "        # Retrieve derivatives from grads\n",
        "        dw = grads[\"dw\"]\n",
        "        db = grads[\"db\"]\n",
        "        \n",
        "        # update \n",
        "        w = w - learning_rate * dw \n",
        "        b = b - learning_rate * db\n",
        "        \n",
        "        if i % 1000 == 0:\n",
        "            costs.append(cost)\n",
        "        \n",
        "        # Print the cost every 1000 training examples\n",
        "        if print_cost and i % 1000 == 0:\n",
        "            print (\"loss: %f\" % (cost))\n",
        "    \n",
        "    params = {\"w\": w,\n",
        "              \"b\": b}\n",
        "    \n",
        "    grads = {\"dw\": dw,\n",
        "             \"db\": db}\n",
        "    \n",
        "    return params, grads, costs"
      ],
      "execution_count": 0,
      "outputs": []
    },
    {
      "metadata": {
        "id": "17OZ_dAXkKvj",
        "colab_type": "code",
        "colab": {}
      },
      "cell_type": "code",
      "source": [
        "def predict(w, b, X):\n",
        "   \n",
        "    m = X.shape[1]\n",
        "    Y_prediction = np.zeros((1, m))\n",
        "    w = w.reshape(X.shape[0], 1)\n",
        "    \n",
        "    A = sigmoid(np.dot(w.T, X) + b)\n",
        "    \n",
        "    for i in range(A.shape[1]):\n",
        "\n",
        "        Y_prediction[0, i] = 1 if A[0, i] > 0.5 else 0\n",
        "    \n",
        "    assert(Y_prediction.shape == (1, m))\n",
        "    \n",
        "    return Y_prediction"
      ],
      "execution_count": 0,
      "outputs": []
    },
    {
      "metadata": {
        "id": "ieb9qTeCkp1D",
        "colab_type": "code",
        "colab": {}
      },
      "cell_type": "code",
      "source": [
        "def model(X_train, Y_train, X_test, Y_test, num_iterations=2000, learning_rate=0.5, print_cost=False):\n",
        "  \n",
        "    w, b = initializer(X_train.shape[0])\n",
        "\n",
        "    # Gradient descent\n",
        "    parameters, grads, costs = optimize(w, b, X_train, Y_train, num_iterations, learning_rate, print_cost)\n",
        "    \n",
        "    # Retrieve parameters w and b from dictionary \"parameters\"\n",
        "    w = parameters[\"w\"]\n",
        "    b = parameters[\"b\"]\n",
        "    \n",
        "    # Predict test/train set examples (≈ 2 lines of code)\n",
        "    Y_prediction_test = predict(w, b, X_test)\n",
        "    Y_prediction_train = predict(w, b, X_train)\n",
        "\n",
        "    # Print train/test Errors\n",
        "    print(\"train accuracy: {} %\".format(100 - np.mean(np.abs(Y_prediction_train - Y_train)) * 100))\n",
        "    print(\"test accuracy: {} %\".format(100 - np.mean(np.abs(Y_prediction_test - Y_test)) * 100))\n",
        "\n",
        "    \n",
        "    d = {\"costs\": costs,\n",
        "         \"Y_prediction_test\": Y_prediction_test, \n",
        "         \"Y_prediction_train\" : Y_prediction_train, \n",
        "         \"w\" : w, \n",
        "         \"b\" : b,\n",
        "         \"learning_rate\" : learning_rate,\n",
        "         \"num_iterations\": num_iterations}\n",
        "    \n",
        "    return d"
      ],
      "execution_count": 0,
      "outputs": []
    },
    {
      "metadata": {
        "id": "mKuskgnMlZGR",
        "colab_type": "code",
        "colab": {
          "base_uri": "https://localhost:8080/",
          "height": 554
        },
        "outputId": "fa8082a3-a174-405d-9cb0-5b808bb712e0"
      },
      "cell_type": "code",
      "source": [
        "\n",
        "d = model(X_train_flatten, y_train, X_test_flatten,y_test, num_iterations = 30000, learning_rate = 0.005, print_cost = True)"
      ],
      "execution_count": 110,
      "outputs": [
        {
          "output_type": "stream",
          "text": [
            "loss: 0.693147\n",
            "loss: 0.005303\n",
            "loss: 0.002660\n",
            "loss: 0.001779\n",
            "loss: 0.001338\n",
            "loss: 0.001072\n",
            "loss: 0.000895\n",
            "loss: 0.000769\n",
            "loss: 0.000674\n",
            "loss: 0.000600\n",
            "loss: 0.000540\n",
            "loss: 0.000492\n",
            "loss: 0.000451\n",
            "loss: 0.000417\n",
            "loss: 0.000388\n",
            "loss: 0.000362\n",
            "loss: 0.000340\n",
            "loss: 0.000320\n",
            "loss: 0.000302\n",
            "loss: 0.000287\n",
            "loss: 0.000272\n",
            "loss: 0.000260\n",
            "loss: 0.000248\n",
            "loss: 0.000237\n",
            "loss: 0.000228\n",
            "loss: 0.000219\n",
            "loss: 0.000210\n",
            "loss: 0.000203\n",
            "loss: 0.000195\n",
            "loss: 0.000189\n",
            "train accuracy: 100.0 %\n",
            "test accuracy: 100.0 %\n"
          ],
          "name": "stdout"
        }
      ]
    }
  ]
}